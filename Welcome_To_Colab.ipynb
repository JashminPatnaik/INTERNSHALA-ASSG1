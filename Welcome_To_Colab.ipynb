{
  "cells": [
    {
      "cell_type": "markdown",
      "metadata": {
        "id": "view-in-github",
        "colab_type": "text"
      },
      "source": [
        "<a href=\"https://colab.research.google.com/github/JashminPatnaik/INTERNSHALA-ASSG1/blob/main/Welcome_To_Colab.ipynb\" target=\"_parent\"><img src=\"https://colab.research.google.com/assets/colab-badge.svg\" alt=\"Open In Colab\"/></a>"
      ]
    },
    {
      "cell_type": "markdown",
      "source": [
        "# New Section\n",
        "%%bash\n",
        "\n",
        "curl -s -o NAVAll.txt https://www.amfiindia.com/spages/NAVAll.txt\n",
        "\n",
        "awk -F';' 'NR>1 && NF>=5 {print $4\"\\t\"$5}' NAVAll.txt > scheme_nav.tsv\n",
        "\n",
        "echo \"First 10 lines of scheme_nav.tsv:\"\n",
        "head scheme_nav.tsv\n"
      ],
      "metadata": {
        "id": "-nJ0JHdMlceK"
      }
    },
    {
      "cell_type": "code",
      "source": [
        "%%bash\n",
        "\n",
        "curl -s -o NAVAll.txt https://www.amfiindia.com/spages/NAVAll.txt\n",
        "\n",
        "awk -F';' 'NR>1 && NF>=5 {print $4\"\\t\"$5}' NAVAll.txt > scheme_nav.tsv\n",
        "\n",
        "echo \"First 10 lines of scheme_nav.tsv:\"\n",
        "head scheme_nav.tsv\n"
      ],
      "metadata": {
        "id": "xuowJ2Wtlnao",
        "outputId": "06cbc7ee-b664-4124-853a-6c1eca4eb1d5",
        "colab": {
          "base_uri": "https://localhost:8080/"
        }
      },
      "execution_count": 4,
      "outputs": [
        {
          "output_type": "stream",
          "name": "stdout",
          "text": [
            "First 10 lines of scheme_nav.tsv:\n",
            "Aditya Birla Sun Life Banking & PSU Debt Fund  - DIRECT - IDCW\t107.5534\n",
            "Aditya Birla Sun Life Banking & PSU Debt Fund  - DIRECT - MONTHLY IDCW\t118.744\n",
            "Aditya Birla Sun Life Banking & PSU Debt Fund  - Direct - Quarterly IDCW\t106.3865\n",
            "Aditya Birla Sun Life Banking & PSU Debt Fund  - REGULAR - IDCW\t151.1357\n",
            "Aditya Birla Sun Life Banking & PSU Debt Fund  - REGULAR - MONTHLY IDCW\t114.5515\n",
            "Aditya Birla Sun Life Banking & PSU Debt Fund  - REGULAR - Quarterly IDCW\t104.3503\n",
            "Aditya Birla Sun Life Banking & PSU Debt Fund  - retail - monthly IDCW\t114.3282\n",
            "Aditya Birla Sun Life Banking & PSU Debt Fund  - retail - quarterly IDCW\t105.4722\n",
            "Aditya Birla Sun Life Banking & PSU Debt Fund - Regular Plan-Growth\t367.9497\n",
            "Aditya Birla Sun Life Banking & PSU Debt Fund - Retail Plan-Growth\t552.3418\n"
          ]
        }
      ]
    }
  ],
  "metadata": {
    "colab": {
      "name": "Welcome To Colab",
      "toc_visible": true,
      "provenance": [],
      "include_colab_link": true
    },
    "kernelspec": {
      "display_name": "Python 3",
      "name": "python3"
    }
  },
  "nbformat": 4,
  "nbformat_minor": 0
}